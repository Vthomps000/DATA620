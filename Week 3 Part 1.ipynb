{
 "cells": [
  {
   "cell_type": "markdown",
   "metadata": {},
   "source": [
    "## Week Three - Part 1 - Network Analysis: Clustering"
   ]
  },
  {
   "cell_type": "markdown",
   "metadata": {},
   "source": [
    "Vanita Thompson"
   ]
  },
  {
   "cell_type": "markdown",
   "metadata": {},
   "source": [
    "### Discussion Prompt"
   ]
  },
  {
   "cell_type": "markdown",
   "metadata": {},
   "source": [
    "First, please watch this presentation:\n",
    "\n",
    "Véronique Van Vlasselaer (2013):  Mini Lecture: Social Network Analysis for Fraud Detection\n",
    "\n",
    "Next, describe an example of how network analytics is being used (or could be used) to detect fraud (or another undesirable activity.)\n",
    "\n",
    "Frame your discussion using applicable methods and measures that have been discussed in the course to date (through at least the chapter 4 material of Social Network Analysis).  What would be a good “error rate” for your model in predicting fraud?"
   ]
  },
  {
   "cell_type": "markdown",
   "metadata": {},
   "source": [
    "### Discussion"
   ]
  },
  {
   "cell_type": "markdown",
   "metadata": {},
   "source": [
    "Social networks help insurance agencies connect with their customers for branding and marketing purposes. In addition, insurance companies use acquired data for fraund detection. Social Network Analysis allows insurers to proactively look through large amounts of data to show the reltionships of links and nodes. Having the ability to collect this data gives an insight to the parameters involved in an insurance fraud case.\n",
    "The Social Network Analysis Approach includes organizational business rules, statistical methods, pattern analysis, and network linkage analysis. When looking for fraud, SNA uses cluster analysis, like linkage analysis to rate claims. Public records like judgements, foreclosures, criminal record, and address change frequency can all be used for rating. A high rating, indicates fraud. Technologies such as text mining, clustering, sentiment analysis and content categorization are used in SNA to build predictive models."
   ]
  },
  {
   "cell_type": "markdown",
   "metadata": {},
   "source": [
    "### Reference"
   ]
  },
  {
   "cell_type": "markdown",
   "metadata": {},
   "source": [
    "https://www.the-digital-insurer.com/wp-content/uploads/2013/12/53-insurance-fraud-detection.pdf"
   ]
  }
 ],
 "metadata": {
  "kernelspec": {
   "display_name": "Python 3",
   "language": "python",
   "name": "python3"
  },
  "language_info": {
   "codemirror_mode": {
    "name": "ipython",
    "version": 3
   },
   "file_extension": ".py",
   "mimetype": "text/x-python",
   "name": "python",
   "nbconvert_exporter": "python",
   "pygments_lexer": "ipython3",
   "version": "3.7.6"
  }
 },
 "nbformat": 4,
 "nbformat_minor": 4
}
