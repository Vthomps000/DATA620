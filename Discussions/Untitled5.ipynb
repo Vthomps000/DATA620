{
 "cells": [
  {
   "cell_type": "markdown",
   "metadata": {},
   "source": [
    "## Week Five - Part 1 Discussion Sentiment Analysis Insights"
   ]
  },
  {
   "cell_type": "markdown",
   "metadata": {},
   "source": [
    "Vanita Thompson"
   ]
  },
  {
   "cell_type": "markdown",
   "metadata": {},
   "source": [
    "### Discussion Prompt"
   ]
  },
  {
   "cell_type": "markdown",
   "metadata": {},
   "source": [
    "This recent article describes how organizations are using sentiment-analysis software to better understand how employees are feeling, since the ability to attract and retain key employees is increasingly necessary for an organization to succeed:\n",
    "\n",
    "Rachael King (2015):  Companies Want to Know:  How do Workers Feel?\n",
    "\n",
    "Describe an interesting use case that describes how an organization uses (or could use) sentiment analysis to gain insights about employees, customers, products, or...?  Include the business goals, and the available or potential sources of data. "
   ]
  },
  {
   "cell_type": "markdown",
   "metadata": {},
   "source": [
    "### Discussion"
   ]
  },
  {
   "cell_type": "markdown",
   "metadata": {},
   "source": [
    "Companys may use sentiment analysis to assist with recruiting new hires. Similar to sites like LinkedIn and Indeed, companies use sentiment analysis software to extract data from job applications. Recruiters can filter applications and connect eligible applicants to companies based on certain criteria. This can be a useful tool, as it minimizes the work required from recruiters. Previously, recruiters spent hours going through resumes. These advancements have made the hiring process more efficient."
   ]
  }
 ],
 "metadata": {
  "kernelspec": {
   "display_name": "Python 3",
   "language": "python",
   "name": "python3"
  },
  "language_info": {
   "codemirror_mode": {
    "name": "ipython",
    "version": 3
   },
   "file_extension": ".py",
   "mimetype": "text/x-python",
   "name": "python",
   "nbconvert_exporter": "python",
   "pygments_lexer": "ipython3",
   "version": "3.7.6"
  }
 },
 "nbformat": 4,
 "nbformat_minor": 4
}
