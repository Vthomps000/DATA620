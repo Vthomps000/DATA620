{
 "cells": [
  {
   "cell_type": "markdown",
   "metadata": {},
   "source": [
    "## Week Four - Part 2 Favorite IPython Notebook on Text Processing"
   ]
  },
  {
   "cell_type": "markdown",
   "metadata": {},
   "source": [
    "Vanita Thompson"
   ]
  },
  {
   "cell_type": "markdown",
   "metadata": {},
   "source": [
    "### Discussion Prompt"
   ]
  },
  {
   "cell_type": "markdown",
   "metadata": {},
   "source": [
    "Find and provide a link to an existing IPython Notebook on a text mining / text processing topic that you find interesting.  What do you like best?  What might be added to this notebook to make it more interesting/useful?  What was your method for finding/selecting this notebook?"
   ]
  },
  {
   "cell_type": "markdown",
   "metadata": {},
   "source": [
    "## Discussion"
   ]
  },
  {
   "cell_type": "markdown",
   "metadata": {},
   "source": [
    "As an avid amazon shopper, I find a lot of the amazon review notebooks interesting. Here is an example of a notebook I enjoy : https://www.kaggle.com/shashanksai/text-preprocessing-using-python . The dataset contains user reviews of Amazon Fine Foods. It would be nice to see individual product ratings developed based on sentiment from the user reviews. I often find free datasets on Google Datasets. However, they rarely include notebooks. I have competed on kaggle, and I know there are quite a few kernels on various datasets. I simply searched for some notebooks on Amazon."
   ]
  }
 ],
 "metadata": {
  "kernelspec": {
   "display_name": "Python 3",
   "language": "python",
   "name": "python3"
  },
  "language_info": {
   "codemirror_mode": {
    "name": "ipython",
    "version": 3
   },
   "file_extension": ".py",
   "mimetype": "text/x-python",
   "name": "python",
   "nbconvert_exporter": "python",
   "pygments_lexer": "ipython3",
   "version": "3.7.6"
  }
 },
 "nbformat": 4,
 "nbformat_minor": 4
}
