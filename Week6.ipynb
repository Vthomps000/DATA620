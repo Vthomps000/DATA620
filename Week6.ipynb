{
 "cells": [
  {
   "cell_type": "markdown",
   "metadata": {},
   "source": [
    "## Week Six - Part 1 Discussion Sentiment Analysis Value Drivers"
   ]
  },
  {
   "cell_type": "markdown",
   "metadata": {},
   "source": [
    "Vanita Thompson"
   ]
  },
  {
   "cell_type": "markdown",
   "metadata": {},
   "source": [
    "### Discussion Prompt"
   ]
  },
  {
   "cell_type": "markdown",
   "metadata": {},
   "source": [
    "Please find and cite a specific code-based example on the web that describes how sentiment analysis has created value (e.g. business value or social good).  You should briefly synopsize (1) The (business) domain under discussion, (2) the problem that sentiment analysis addresses, (3) the approach used, then (4) describe if possible a different domain where the same approach might also be effective."
   ]
  },
  {
   "cell_type": "markdown",
   "metadata": {},
   "source": [
    "### Discussion"
   ]
  },
  {
   "cell_type": "markdown",
   "metadata": {},
   "source": [
    "I found an example of sentiment analysis on Twitter at: https://www.analyticsvidhya.com/blog/2018/07/hands-on-sentiment-analysis-dataset-python/. In this project, the author uses sentiment analysis/natural language processing to detect hate speech on Twitter. This was accomplished by giving a training sample of tweets and labels, where label ‘1’ denotes the tweet is racist/sexist and label ‘0’ denotes the tweet is not racist/sexist, the objective is to predict the labels on the given test dataset. First, pre-processing and text mining was done to make it easier to extract information from the text and apply machine learning algorithms to it. Next, data was tidyed to remove words, such as @ usernames, punctuation, and special characters. The tidyed dataset was tokenized to split strings of text, and 'stemmed' to strip paricular suffixes. Next, the dataset was examined for common words to see how a given word was distributed across the dataset. Next, a model was built using predictive analysis from the extracted sentiments. Amazon also uses a similar approach for sentiment analysis on user reviews."
   ]
  }
 ],
 "metadata": {
  "kernelspec": {
   "display_name": "Python 3",
   "language": "python",
   "name": "python3"
  },
  "language_info": {
   "codemirror_mode": {
    "name": "ipython",
    "version": 3
   },
   "file_extension": ".py",
   "mimetype": "text/x-python",
   "name": "python",
   "nbconvert_exporter": "python",
   "pygments_lexer": "ipython3",
   "version": "3.7.6"
  }
 },
 "nbformat": 4,
 "nbformat_minor": 4
}
