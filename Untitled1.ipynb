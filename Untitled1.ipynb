{
 "cells": [
  {
   "cell_type": "markdown",
   "metadata": {},
   "source": [
    "## Week 2: Face-to-face Interactions Networks"
   ]
  },
  {
   "cell_type": "markdown",
   "metadata": {},
   "source": [
    "Vanita Thompson"
   ]
  },
  {
   "cell_type": "markdown",
   "metadata": {},
   "source": [
    "### Prompt"
   ]
  },
  {
   "cell_type": "markdown",
   "metadata": {},
   "source": [
    "Paul Revere’s historical ride has been analyzed as an example of effective social network hacking.  Can you give a different example of a person who was effective at hacking/navigating his or her social network?  Data does not have to be available for your example.  Which centrality measure(s) do you think would be most relevant in your example?  Do you think that the centrality measures would allow you to predict relative (positive or negative) outcomes in your example?"
   ]
  },
  {
   "cell_type": "markdown",
   "metadata": {},
   "source": [
    "### Discussion"
   ]
  },
  {
   "cell_type": "markdown",
   "metadata": {},
   "source": [
    "Kim Kardashian and The Kardashian family have been effective at hacking/navigating their social networks. They have ammased a tremendous following, and are ranked amongst the most popular public figures on popular social networking apps, such as Twitter, Instagram, and Youtube. Their analysts may use degree centrality (both inward and outward), betweness centrality, closeness centrality, and eigenvector centrality to analyse their social networks. Since degree centrality measures the number of edges on a node, it can be considered a measure of popularity. Betweeness centrality is a measure of a nodes centrality in the network equal to the number of shortest paths from all other verticies to all others that pass through that node, or a node's ability to bridge different subnetworks. Higher betweeness centrality scores may indicate the importance of a node (or Kardashian) in a network.  Closeness centrality is a measure of the average shortest distance from each vertex to each other vertex. Direct connections and shortest paths are important. A lower closeness centrality score shows more direct connections (closeness). Eigenvector centrality is a metric that measures the degrees of the nodes that a node is connected to. It can be used to calculate how “connected” are the nodes connected to a Kardashian. It is a way of determine how popular the Kardashian's friends are. Using subgraphs show all the nodes that node is connected to. \n",
    "These centrality measures can be used to predict positive and negative outcomes, such as icreasing social media engagement for marketting opportunities, or filtering bad publicity and comments on their social platforms."
   ]
  }
 ],
 "metadata": {
  "kernelspec": {
   "display_name": "Python 3",
   "language": "python",
   "name": "python3"
  },
  "language_info": {
   "codemirror_mode": {
    "name": "ipython",
    "version": 3
   },
   "file_extension": ".py",
   "mimetype": "text/x-python",
   "name": "python",
   "nbconvert_exporter": "python",
   "pygments_lexer": "ipython3",
   "version": "3.7.6"
  }
 },
 "nbformat": 4,
 "nbformat_minor": 4
}
