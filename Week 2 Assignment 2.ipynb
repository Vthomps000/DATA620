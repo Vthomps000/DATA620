{
 "cells": [
  {
   "cell_type": "markdown",
   "metadata": {},
   "source": [
    "# Week 2: Centrality Measures"
   ]
  },
  {
   "cell_type": "markdown",
   "metadata": {},
   "source": [
    "Vanita Thompson"
   ]
  },
  {
   "cell_type": "markdown",
   "metadata": {},
   "source": [
    "## Assignment Prompt"
   ]
  },
  {
   "cell_type": "markdown",
   "metadata": {},
   "source": [
    "Centrality measures can be used to predict (positive or negative) outcomes for a node.\n",
    "\n",
    "Your task in this week’s assignment is to identify an interesting set of network data that is available on the web (either through web scraping or web APIs) that could be used for analyzing and comparing centrality measures across nodes.  As an additional constraint, there should be at least one categorical variable available for each node (such as “Male” or “Female”; “Republican”, “Democrat,” or “Undecided”, etc.)\n",
    "\n",
    "In addition to identifying your data source, you should create a high level plan that describes how you would load the data for analysis, and describe a hypothetical outcome that could be predicted from comparing degree centrality across categorical groups. "
   ]
  },
  {
   "cell_type": "markdown",
   "metadata": {},
   "source": [
    "## Topic: Social Networks in Movies"
   ]
  },
  {
   "cell_type": "markdown",
   "metadata": {},
   "source": [
    "I would like to investigate the social networks of characters found in movies. These character networks exhibit many of the properties of complex networks such as centrality measures, community sructure, and degree distribution. In these social networks networks, nodes represent characters. The edges between characters are determined by their interactions within the movie. Figures represent communities, that can be found by the network parameter  modularity. Centrality measures like PageRank and betweeness can find the top characters.\n",
    "\n",
    "In these character social networks, the nodes and edges correspond to some kind of social interaction such as friendship,  following, or perhaps, mirrors how writers create the social networks for their characters. For instance, a writer may chooses top characters in their books, and then built the network of lesser characters around them."
   ]
  },
  {
   "cell_type": "markdown",
   "metadata": {},
   "source": [
    "## Data Acquisition & Cleaning"
   ]
  },
  {
   "cell_type": "markdown",
   "metadata": {},
   "source": [
    "Character data is available in csv format on Kaggle. The character network nodes will be modeled demonstrating engagement, other nodes will be modeled as connected to the ego.\n",
    "\n",
    "A summary of the steps is below:\n",
    "\n",
    "1. Mining the networks for their properties. This is a deep dive into the analysis of individual works, extracting network properties not easily. Think of this as putting an individual character network under a microscope.\n",
    "\n",
    "2. Modelling the networks. This gives a big picture view, considering mathematical models and finding the best fitting model for the networks. Think of this as a macroscopic view of multiple character networks."
   ]
  },
  {
   "cell_type": "markdown",
   "metadata": {},
   "source": [
    "## Goal"
   ]
  },
  {
   "cell_type": "markdown",
   "metadata": {},
   "source": [
    "Using network graphs and network metadata from Kaggle, a website providing network graph data from Harry Potter. I will graph network data, and provide descriptive statistics on measures such as clustering coefficient, degree, density, diameter, modularity, average path length, the total number of edges, and the total number of nodes. Then, parse and determined same-scene appereance of characters as a proxy of connectedness (each co-appeareance is measured as one degree unit per scene). "
   ]
  },
  {
   "cell_type": "markdown",
   "metadata": {},
   "source": [
    "## References"
   ]
  },
  {
   "cell_type": "markdown",
   "metadata": {},
   "source": [
    "https://www.kaggle.com/gulsahdemiryurek/harry-potter-dataset?select=Characters.csv\n",
    "\n",
    "Anthony Bonato, David Ryan D’Angelo, Ethan R. Elenberg, David F. Gleich, Yangyang Hou, Mining and modeling character networks, arXiv:1608.00646 [cs.SI].\n",
    "\n",
    "Kaminski, Jermain; Schober, Michael; Albaladejo, Raymond; Zastupailo, Oleksandr; Hidalgo, César, 2018, \"Moviegalaxies - Social Networks in Movies\", https://doi.org/10.7910/DVN/T4HBA3, Harvard Dataverse, V3"
   ]
  }
 ],
 "metadata": {
  "kernelspec": {
   "display_name": "Python 3",
   "language": "python",
   "name": "python3"
  },
  "language_info": {
   "codemirror_mode": {
    "name": "ipython",
    "version": 3
   },
   "file_extension": ".py",
   "mimetype": "text/x-python",
   "name": "python",
   "nbconvert_exporter": "python",
   "pygments_lexer": "ipython3",
   "version": "3.7.6"
  }
 },
 "nbformat": 4,
 "nbformat_minor": 4
}
